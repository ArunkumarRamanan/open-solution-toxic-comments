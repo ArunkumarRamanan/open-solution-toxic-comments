{
 "cells": [
  {
   "cell_type": "code",
   "execution_count": null,
   "metadata": {},
   "outputs": [],
   "source": [
    "import os\n",
    "\n",
    "from tqdm import tqdm_notebook as tqdm\n",
    "import glob\n",
    "import numpy as np\n",
    "import pandas as pd"
   ]
  },
  {
   "cell_type": "code",
   "execution_count": null,
   "metadata": {},
   "outputs": [],
   "source": [
    "from sklearn.metrics import roc_auc_score\n",
    "\n",
    "def multi_roc_auc_score(y_true, y_pred):\n",
    "    assert y_true.shape == y_pred.shape\n",
    "    columns = y_true.shape[1]\n",
    "    column_losses = []\n",
    "    for i in range(0, columns):\n",
    "        column_losses.append(roc_auc_score(y_true[:, i], y_pred[:, i]))\n",
    "    return np.array(column_losses).mean()\n",
    "\n",
    "def read_predictions(prediction_dir, mode='valid', valid_columns=None, stacking_mode='flat'):\n",
    "    valid_labels = pd.read_csv(os.path.join(prediction_dir, 'valid_split.csv'))\n",
    "    sample_submission = pd.read_csv(os.path.join(prediction_dir, 'sample_submission.csv'))\n",
    "    predictions = []\n",
    "    for filepath in sorted(glob.glob('{}/{}/*'.format(prediction_dir, mode))):\n",
    "        prediction_single = pd.read_csv(filepath)\n",
    "        prediction_single.drop('id', axis=1, inplace=True)\n",
    "        predictions.append(prediction_single)\n",
    "\n",
    "    if stacking_mode == 'flat':\n",
    "        X = np.hstack(predictions)\n",
    "    elif stacking_mode == 'rnn':\n",
    "        X = np.stack(predictions, axis=2)\n",
    "    else:\n",
    "        raise NotImplementedError(\"\"\"only stacking_mode options 'flat' and 'rnn' are supported\"\"\")\n",
    "\n",
    "    if mode == 'valid':\n",
    "        y = valid_labels[valid_columns].values\n",
    "        return X, y\n",
    "    elif mode == 'test':\n",
    "        return X, sample_submission\n",
    "    else:\n",
    "        raise NotImplementedError"
   ]
  },
  {
   "cell_type": "code",
   "execution_count": null,
   "metadata": {},
   "outputs": [],
   "source": [
    "LABEL_COLUMNS = ['toxic', 'severe_toxic', 'obscene', 'threat', 'insult', 'identity_hate']\n",
    "\n",
    "SINGLE_DIR = '/public/toxic_comments/single_model_predictions_20180226'\n",
    "ENSEMBLE_SUBMISSION_PATH = '/output/catboost_submission.csv'"
   ]
  },
  {
   "cell_type": "markdown",
   "metadata": {},
   "source": [
    "# Validation Set Level 1 Predictions"
   ]
  },
  {
   "cell_type": "code",
   "execution_count": null,
   "metadata": {},
   "outputs": [],
   "source": [
    "X_valid, y_valid_multilabel = read_predictions(SINGLE_DIR, mode='valid',valid_columns=LABEL_COLUMNS)"
   ]
  },
  {
   "cell_type": "markdown",
   "metadata": {},
   "source": [
    "# Test Set Level 1 Predictions"
   ]
  },
  {
   "cell_type": "code",
   "execution_count": null,
   "metadata": {},
   "outputs": [],
   "source": [
    "X_test, sample_submission = read_predictions(SINGLE_DIR, mode='test')"
   ]
  },
  {
   "cell_type": "markdown",
   "metadata": {},
   "source": [
    "# Ensemble Training"
   ]
  },
  {
   "cell_type": "code",
   "execution_count": null,
   "metadata": {},
   "outputs": [],
   "source": [
    "! pip install catboost"
   ]
  },
  {
   "cell_type": "code",
   "execution_count": null,
   "metadata": {},
   "outputs": [],
   "source": [
    "from sklearn.cross_validation import ShuffleSplit\n",
    "from catboost import CatBoostClassifier\n",
    "\n",
    "\n",
    "def fit_cv(X,y,n_splits=5):\n",
    "    estimators,scores = [],[]\n",
    "    cv = ShuffleSplit(X.shape[0], n_iter=n_splits, test_size=0.2, random_state=0)\n",
    "\n",
    "    for train, valid in cv:\n",
    "        X_train_ = X[train]\n",
    "        y_train_ = y[train]\n",
    "        X_valid_ = X[valid]\n",
    "        y_valid_ =  y[valid]\n",
    "        \n",
    "        estimators_fold = []\n",
    "        for i in tqdm(range(6)):\n",
    "            y_train_one_label = y_train_[:,i]\n",
    "            estimator = CatBoostClassifier(iterations=500, \n",
    "                                           learning_rate=0.05, \n",
    "                                           depth=3, \n",
    "                                           l2_leaf_reg= 5,\n",
    "                                           rsm=0.2,\n",
    "                                           model_size_reg=2.0,\n",
    "                                           border_count= 200,\n",
    "                                           verbose=False)\n",
    "            estimator.fit(X_train_, y_train_one_label)\n",
    "            estimators_fold.append(estimator)\n",
    "        estimators.append(estimators_fold)\n",
    "        \n",
    "        y_valid_pred = []\n",
    "        for estimator in estimators_fold:\n",
    "            y_valid_pred_one_label = estimator.predict_proba(X_valid_)\n",
    "            y_valid_pred.append(y_valid_pred_one_label)\n",
    "        y_valid_pred = np.stack(y_valid_pred, axis=1)[...,1]\n",
    "        score = multi_roc_auc_score(y_valid_, y_valid_pred)\n",
    "        print(score)\n",
    "        scores.append(score)\n",
    "    return scores, estimators    \n",
    "\n",
    "scores, estimators = fit_cv(X_valid, y_valid_multilabel)     "
   ]
  }
 ],
 "metadata": {
  "kernelspec": {
   "display_name": "Python 3",
   "language": "python",
   "name": "python3"
  },
  "language_info": {
   "codemirror_mode": {
    "name": "ipython",
    "version": 3
   },
   "file_extension": ".py",
   "mimetype": "text/x-python",
   "name": "python",
   "nbconvert_exporter": "python",
   "pygments_lexer": "ipython3",
   "version": "3.5.2"
  }
 },
 "nbformat": 4,
 "nbformat_minor": 1
}
