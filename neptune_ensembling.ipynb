{
 "cells": [
  {
   "cell_type": "code",
   "execution_count": 1,
   "metadata": {},
   "outputs": [],
   "source": [
    "import os\n",
    "\n",
    "from tqdm import tqdm_notebook as tqdm\n",
    "import glob\n",
    "import numpy as np\n",
    "import pandas as pd"
   ]
  },
  {
   "cell_type": "code",
   "execution_count": 2,
   "metadata": {},
   "outputs": [],
   "source": [
    "from sklearn.metrics import roc_auc_score\n",
    "\n",
    "def multi_roc_auc_score(y_true, y_pred):\n",
    "    assert y_true.shape == y_pred.shape\n",
    "    columns = y_true.shape[1]\n",
    "    column_losses = []\n",
    "    for i in range(0, columns):\n",
    "        column_losses.append(roc_auc_score(y_true[:, i], y_pred[:, i]))\n",
    "    return np.array(column_losses).mean()\n",
    "\n",
    "def read_predictions(prediction_dir, mode='valid', valid_columns=None):\n",
    "    valid_labels = pd.read_csv(os.path.join(prediction_dir, 'valid_split.csv'))\n",
    "    sample_submission = pd.read_csv(os.path.join(prediction_dir, 'sample_submission.csv'))\n",
    "    predictions = []\n",
    "    for filepath in sorted(glob.glob('{}/{}/*'.format(prediction_dir, mode))):\n",
    "        prediction_single = pd.read_csv(filepath)\n",
    "        prediction_single.drop('id', axis=1, inplace=True)\n",
    "        predictions.append(prediction_single)\n",
    "\n",
    "    X = np.hstack(predictions)\n",
    "\n",
    "    if mode == 'valid':\n",
    "        y = valid_labels[valid_columns].values\n",
    "        return X, y\n",
    "    elif mode == 'test':\n",
    "        return X, sample_submission\n",
    "    else:\n",
    "        raise NotImplementedError"
   ]
  },
  {
   "cell_type": "code",
   "execution_count": 6,
   "metadata": {},
   "outputs": [],
   "source": [
    "LABEL_COLUMNS = ['toxic', 'severe_toxic','obscene','threat','insult','identity_hate']\n",
    "\n",
    "SINGLE_DIR = '/mnt/ml-team/minerva/toxic/single_model_predictions_newest'\n",
    "ENSEMBLE_SUBMISSION_PATH = '/mnt/ml-team/minerva/toxic/catboost_submission.csv'"
   ]
  },
  {
   "cell_type": "markdown",
   "metadata": {},
   "source": [
    "# Validation Set Level 1 Predictions"
   ]
  },
  {
   "cell_type": "code",
   "execution_count": 7,
   "metadata": {},
   "outputs": [],
   "source": [
    "X_valid, y_valid_multilabel = read_predictions(SINGLE_DIR, mode='valid',valid_columns=LABEL_COLUMNS)"
   ]
  },
  {
   "cell_type": "markdown",
   "metadata": {},
   "source": [
    "# Test Set Level 1 Predictions"
   ]
  },
  {
   "cell_type": "code",
   "execution_count": 8,
   "metadata": {},
   "outputs": [],
   "source": [
    "X_test, sample_submission = read_predictions(SINGLE_DIR, mode='test')"
   ]
  },
  {
   "cell_type": "markdown",
   "metadata": {},
   "source": [
    "# Ensemble Training"
   ]
  },
  {
   "cell_type": "code",
   "execution_count": 19,
   "metadata": {
    "collapsed": true
   },
   "outputs": [
    {
     "name": "stdout",
     "output_type": "stream",
     "text": [
      "Collecting catboost\n",
      "  Downloading catboost-0.6.2-cp27-none-manylinux1_x86_64.whl (25.4MB)\n",
      "\u001b[K    100% |████████████████████████████████| 25.4MB 64kB/s eta 0:00:0111\n",
      "\u001b[?25hRequirement already satisfied: numpy in /usr/local/lib/python2.7/dist-packages (from catboost)\n",
      "Requirement already satisfied: six in /usr/local/lib/python2.7/dist-packages (from catboost)\n",
      "Installing collected packages: catboost\n",
      "\u001b[31mException:\n",
      "Traceback (most recent call last):\n",
      "  File \"/usr/local/lib/python2.7/dist-packages/pip/basecommand.py\", line 215, in main\n",
      "    status = self.run(options, args)\n",
      "  File \"/usr/local/lib/python2.7/dist-packages/pip/commands/install.py\", line 342, in run\n",
      "    prefix=options.prefix_path,\n",
      "  File \"/usr/local/lib/python2.7/dist-packages/pip/req/req_set.py\", line 784, in install\n",
      "    **kwargs\n",
      "  File \"/usr/local/lib/python2.7/dist-packages/pip/req/req_install.py\", line 851, in install\n",
      "    self.move_wheel_files(self.source_dir, root=root, prefix=prefix)\n",
      "  File \"/usr/local/lib/python2.7/dist-packages/pip/req/req_install.py\", line 1064, in move_wheel_files\n",
      "    isolated=self.isolated,\n",
      "  File \"/usr/local/lib/python2.7/dist-packages/pip/wheel.py\", line 345, in move_wheel_files\n",
      "    clobber(source, lib_dir, True)\n",
      "  File \"/usr/local/lib/python2.7/dist-packages/pip/wheel.py\", line 316, in clobber\n",
      "    ensure_dir(destdir)\n",
      "  File \"/usr/local/lib/python2.7/dist-packages/pip/utils/__init__.py\", line 83, in ensure_dir\n",
      "    os.makedirs(path)\n",
      "  File \"/usr/lib/python2.7/os.py\", line 157, in makedirs\n",
      "    mkdir(name, mode)\n",
      "OSError: [Errno 13] Permission denied: '/usr/local/lib/python2.7/dist-packages/catboost-0.6.2.dist-info'\u001b[0m\n"
     ]
    }
   ],
   "source": [
    "! pip install catboost"
   ]
  },
  {
   "cell_type": "code",
   "execution_count": null,
   "metadata": {},
   "outputs": [],
   "source": [
    "iterations=200, \n",
    "                                           learning_rate=0.05, \n",
    "                                           depth=3, \n",
    "                                           l2_leaf_reg= 1,\n",
    "                                           border_count= 200,\n",
    "                                           verbose=False"
   ]
  },
  {
   "cell_type": "code",
   "execution_count": null,
   "metadata": {
    "scrolled": false
   },
   "outputs": [
    {
     "data": {
      "application/vnd.jupyter.widget-view+json": {
       "model_id": "3b20c74353364ae69c710877b2e90c13",
       "version_major": 2,
       "version_minor": 0
      },
      "text/html": [
       "<p>Failed to display Jupyter Widget of type <code>HBox</code>.</p>\n",
       "<p>\n",
       "  If you're reading this message in the Jupyter Notebook or JupyterLab Notebook, it may mean\n",
       "  that the widgets JavaScript is still loading. If this message persists, it\n",
       "  likely means that the widgets JavaScript library is either not installed or\n",
       "  not enabled. See the <a href=\"https://ipywidgets.readthedocs.io/en/stable/user_install.html\">Jupyter\n",
       "  Widgets Documentation</a> for setup instructions.\n",
       "</p>\n",
       "<p>\n",
       "  If you're reading this message in another frontend (for example, a static\n",
       "  rendering on GitHub or <a href=\"https://nbviewer.jupyter.org/\">NBViewer</a>),\n",
       "  it may mean that your frontend doesn't currently support widgets.\n",
       "</p>\n"
      ],
      "text/plain": [
       "HBox(children=(IntProgress(value=0, max=6), HTML(value='')))"
      ]
     },
     "metadata": {},
     "output_type": "display_data"
    }
   ],
   "source": [
    "from sklearn.cross_validation import ShuffleSplit\n",
    "from catboost import CatBoostClassifier\n",
    "\n",
    "\n",
    "def fit_cv(X,y,n_splits=5):\n",
    "    estimators,scores = [],[]\n",
    "    cv = ShuffleSplit(X.shape[0], n_iter=n_splits, test_size=0.2, random_state=0)\n",
    "\n",
    "    for train, valid in cv:\n",
    "        X_train_ = X[train]\n",
    "        y_train_ = y[train]\n",
    "        X_valid_ = X[valid]\n",
    "        y_valid_ =  y[valid]\n",
    "        \n",
    "        estimators_fold = []\n",
    "        for i in tqdm(range(6)):\n",
    "            y_train_one_label = y_train_[:,i]\n",
    "            estimator = CatBoostClassifier(iterations=500, \n",
    "                                           learning_rate=0.05, \n",
    "                                           depth=3, \n",
    "                                           l2_leaf_reg= 5,\n",
    "                                           rsm=0.2,\n",
    "                                           model_size_reg=2.0,\n",
    "                                           border_count= 200,\n",
    "                                           verbose=False)\n",
    "            estimator.fit(X_train_, y_train_one_label)\n",
    "            estimators_fold.append(estimator)\n",
    "        estimators.append(estimators_fold)\n",
    "        \n",
    "        y_valid_pred = []\n",
    "        for estimator in estimators_fold:\n",
    "            y_valid_pred_one_label = estimator.predict_proba(X_valid_)\n",
    "            y_valid_pred.append(y_valid_pred_one_label)\n",
    "        y_valid_pred = np.stack(y_valid_pred, axis=1)[...,1]\n",
    "        score = multi_roc_auc_score(y_valid_, y_valid_pred)\n",
    "        print(score)\n",
    "        scores.append(score)\n",
    "    return scores, estimators    \n",
    "\n",
    "scores, estimators = fit_cv(X_valid, y_valid_multilabel)     "
   ]
  },
  {
   "cell_type": "code",
   "execution_count": null,
   "metadata": {},
   "outputs": [],
   "source": [
    "print('score average {}\\nscore std {}'.format(np.mean(scores),np.std(scores)))"
   ]
  },
  {
   "cell_type": "markdown",
   "metadata": {},
   "source": [
    "# Ensemble Prediction"
   ]
  },
  {
   "cell_type": "code",
   "execution_count": 59,
   "metadata": {},
   "outputs": [],
   "source": [
    "y_bagged =[]\n",
    "for estimators_fold in estimators:\n",
    "    y_test_pred = []\n",
    "    for estimator in estimators_fold:\n",
    "        y_test_pred_one_label = estimator.predict_proba(X_test)\n",
    "        y_test_pred.append(y_test_pred_one_label)\n",
    "    y_test_pred = np.stack(y_test_pred, axis=1)[...,1]\n",
    "    y_bagged.append(y_test_pred)\n",
    "y_bagged = np.mean(np.stack(y_bagged),axis=0)"
   ]
  },
  {
   "cell_type": "markdown",
   "metadata": {},
   "source": [
    "# Submission"
   ]
  },
  {
   "cell_type": "code",
   "execution_count": 60,
   "metadata": {},
   "outputs": [
    {
     "data": {
      "text/html": [
       "<div>\n",
       "<style scoped>\n",
       "    .dataframe tbody tr th:only-of-type {\n",
       "        vertical-align: middle;\n",
       "    }\n",
       "\n",
       "    .dataframe tbody tr th {\n",
       "        vertical-align: top;\n",
       "    }\n",
       "\n",
       "    .dataframe thead th {\n",
       "        text-align: right;\n",
       "    }\n",
       "</style>\n",
       "<table border=\"1\" class=\"dataframe\">\n",
       "  <thead>\n",
       "    <tr style=\"text-align: right;\">\n",
       "      <th></th>\n",
       "      <th>id</th>\n",
       "      <th>toxic</th>\n",
       "      <th>severe_toxic</th>\n",
       "      <th>obscene</th>\n",
       "      <th>threat</th>\n",
       "      <th>insult</th>\n",
       "      <th>identity_hate</th>\n",
       "    </tr>\n",
       "  </thead>\n",
       "  <tbody>\n",
       "    <tr>\n",
       "      <th>0</th>\n",
       "      <td>00001cee341fdb12</td>\n",
       "      <td>0.994446</td>\n",
       "      <td>0.297564</td>\n",
       "      <td>0.969432</td>\n",
       "      <td>0.022415</td>\n",
       "      <td>0.903344</td>\n",
       "      <td>0.412950</td>\n",
       "    </tr>\n",
       "    <tr>\n",
       "      <th>1</th>\n",
       "      <td>0000247867823ef7</td>\n",
       "      <td>0.001143</td>\n",
       "      <td>0.000029</td>\n",
       "      <td>0.000275</td>\n",
       "      <td>0.000049</td>\n",
       "      <td>0.000134</td>\n",
       "      <td>0.000048</td>\n",
       "    </tr>\n",
       "    <tr>\n",
       "      <th>2</th>\n",
       "      <td>00013b17ad220c46</td>\n",
       "      <td>0.002666</td>\n",
       "      <td>0.000049</td>\n",
       "      <td>0.000533</td>\n",
       "      <td>0.000061</td>\n",
       "      <td>0.000559</td>\n",
       "      <td>0.000091</td>\n",
       "    </tr>\n",
       "    <tr>\n",
       "      <th>3</th>\n",
       "      <td>00017563c3f7919a</td>\n",
       "      <td>0.000320</td>\n",
       "      <td>0.000024</td>\n",
       "      <td>0.000086</td>\n",
       "      <td>0.000035</td>\n",
       "      <td>0.000062</td>\n",
       "      <td>0.000050</td>\n",
       "    </tr>\n",
       "    <tr>\n",
       "      <th>4</th>\n",
       "      <td>00017695ad8997eb</td>\n",
       "      <td>0.002441</td>\n",
       "      <td>0.000028</td>\n",
       "      <td>0.000304</td>\n",
       "      <td>0.000039</td>\n",
       "      <td>0.000206</td>\n",
       "      <td>0.000071</td>\n",
       "    </tr>\n",
       "  </tbody>\n",
       "</table>\n",
       "</div>"
      ],
      "text/plain": [
       "                 id     toxic  severe_toxic   obscene    threat    insult  \\\n",
       "0  00001cee341fdb12  0.994446      0.297564  0.969432  0.022415  0.903344   \n",
       "1  0000247867823ef7  0.001143      0.000029  0.000275  0.000049  0.000134   \n",
       "2  00013b17ad220c46  0.002666      0.000049  0.000533  0.000061  0.000559   \n",
       "3  00017563c3f7919a  0.000320      0.000024  0.000086  0.000035  0.000062   \n",
       "4  00017695ad8997eb  0.002441      0.000028  0.000304  0.000039  0.000206   \n",
       "\n",
       "   identity_hate  \n",
       "0       0.412950  \n",
       "1       0.000048  \n",
       "2       0.000091  \n",
       "3       0.000050  \n",
       "4       0.000071  "
      ]
     },
     "execution_count": 60,
     "metadata": {},
     "output_type": "execute_result"
    }
   ],
   "source": [
    "submission = sample_submission\n",
    "submission[LABEL_COLUMNS] = y_bagged # this gets 0.9849 on LB\n",
    "submission.to_csv(ENSEMBLE_SUBMISSION_PATH, index=None)\n",
    "submission.head()"
   ]
  },
  {
   "cell_type": "code",
   "execution_count": null,
   "metadata": {},
   "outputs": [],
   "source": []
  }
 ],
 "metadata": {
  "kernelspec": {
   "display_name": "dl_py3",
   "language": "python",
   "name": "dl_py3"
  },
  "language_info": {
   "codemirror_mode": {
    "name": "ipython",
    "version": 3
   },
   "file_extension": ".py",
   "mimetype": "text/x-python",
   "name": "python",
   "nbconvert_exporter": "python",
   "pygments_lexer": "ipython3",
   "version": "3.5.2"
  }
 },
 "nbformat": 4,
 "nbformat_minor": 1
}
